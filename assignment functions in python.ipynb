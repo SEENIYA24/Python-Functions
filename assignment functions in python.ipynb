{
 "cells": [
  {
   "cell_type": "code",
   "execution_count": null,
   "id": "824db0f5-2adc-4248-89c9-ca8af550b58f",
   "metadata": {},
   "outputs": [],
   "source": [
    "Exercise 1:\n",
    "Create a function that takes in three arguments, two of which are optional. The first argument should be a required positional argument, the second argument should be a keyword argument with a default value of 10, and the third argument should be a keyword argument with a default value of None. The function should print the sum of the first two arguments if the third argument is None, and print the product of all three arguments if the third argument is not None."
   ]
  },
  {
   "cell_type": "code",
   "execution_count": 1,
   "id": "19f198fc-7ac1-495a-ac89-d21fb48d2353",
   "metadata": {},
   "outputs": [],
   "source": [
    "def calculate(a, b=10, c=None):\n",
    "    if c is None:\n",
    "        result = a + b\n",
    "    else:\n",
    "        result = a * b * c\n",
    "    print(result)"
   ]
  },
  {
   "cell_type": "code",
   "execution_count": 3,
   "id": "01491e63-3cfb-4533-97c1-da291d9d73db",
   "metadata": {},
   "outputs": [
    {
     "name": "stdout",
     "output_type": "stream",
     "text": [
      "15\n",
      "7\n",
      "30\n"
     ]
    }
   ],
   "source": [
    "calculate(5)          # Should print 15 (5 + 10)\n",
    "calculate(5, 2)      # Should print 7 (5 + 2)\n",
    "calculate(5, 2, 3)   # Should print 30 (5 * 2 * 3)"
   ]
  },
  {
   "cell_type": "code",
   "execution_count": null,
   "id": "c6b196ba-5efc-4439-8f1a-d60858204eb1",
   "metadata": {},
   "outputs": [],
   "source": [
    "Exercise 2: \n",
    "Write a function that takes in a list of strings and returns a new list with only the strings that have a length greater than or equal to 5."
   ]
  },
  {
   "cell_type": "code",
   "execution_count": 5,
   "id": "922b4409-9d2b-4bf7-8d23-40d347905f13",
   "metadata": {},
   "outputs": [
    {
     "name": "stdout",
     "output_type": "stream",
     "text": [
      "['apple', 'banana', 'grape', 'cherry']\n"
     ]
    }
   ],
   "source": [
    "def filter_long_strings(strings):\n",
    "    return [s for s in strings if len(s) >= 5]\n",
    "\n",
    "# Example usage:\n",
    "string_list = [\"apple\", \"banana\", \"fig\", \"grape\", \"cherry\"]\n",
    "filtered_list = filter_long_strings(string_list)\n",
    "print(filtered_list)  # Should print ['apple', 'banana', 'grape', 'cherry']"
   ]
  },
  {
   "cell_type": "code",
   "execution_count": null,
   "id": "9e861b78-23f7-45a8-842d-d10ff44d0441",
   "metadata": {},
   "outputs": [],
   "source": [
    "Exercise 3:\n",
    "Write a Python program to evaluate a given mathematical expression using the eval() function.\n",
    "expression = \"3 * 5 + 2\"\n"
   ]
  },
  {
   "cell_type": "code",
   "execution_count": 7,
   "id": "f317d14a-6392-4641-8905-1ada4f0ae3b3",
   "metadata": {},
   "outputs": [
    {
     "name": "stdout",
     "output_type": "stream",
     "text": [
      "The result of the expression '3 * 5 + 2' is: 17\n"
     ]
    }
   ],
   "source": [
    "# Given expression\n",
    "expression = \"3 * 5 + 2\"\n",
    "\n",
    "# Evaluate the expression\n",
    "result = eval(expression)\n",
    "\n",
    "# Print the result\n",
    "print(f\"The result of the expression '{expression}' is: {result}\")"
   ]
  },
  {
   "cell_type": "code",
   "execution_count": null,
   "id": "d9924359-2ca5-4c10-a075-b756d29c01e3",
   "metadata": {},
   "outputs": [],
   "source": [
    "\n",
    "Exercise 4:\n",
    "\n",
    "Exercise 4: (score : 1) \n",
    "Write a Python program to filter out the prime numbers from a given list of integers using the filter()  function.\n",
    "\n"
   ]
  },
  {
   "cell_type": "code",
   "execution_count": 9,
   "id": "a99683b6-fed2-496a-abda-3ed88fe7aa27",
   "metadata": {},
   "outputs": [
    {
     "name": "stdout",
     "output_type": "stream",
     "text": [
      "Prime numbers: [3, 7, 23, 2, 5]\n"
     ]
    }
   ],
   "source": [
    "def is_prime(num):\n",
    "    if num < 2:\n",
    "        return False\n",
    "    for i in range(2, int(num**0.5) + 1):\n",
    "        if num % i == 0:\n",
    "            return False\n",
    "    return True\n",
    "\n",
    "# List of integers\n",
    "numbers = [10, 15, 3, 7, 8, 23, 2, 4, 5]\n",
    "\n",
    "# Filtering prime numbers using filter()\n",
    "prime_numbers = list(filter(is_prime, numbers))\n",
    "\n",
    "# Print the result\n",
    "print(\"Prime numbers:\", prime_numbers)"
   ]
  },
  {
   "cell_type": "code",
   "execution_count": null,
   "id": "84fdf06e-e65a-48c9-8f8e-872a0f2b2eaa",
   "metadata": {},
   "outputs": [],
   "source": [
    "Exercise 5:\n",
    "Write a Python program to convert a list of strings to uppercase using the map() function.\n"
   ]
  },
  {
   "cell_type": "code",
   "execution_count": 11,
   "id": "f11a3f4b-2df7-4b67-a45d-f7d0b73b38a1",
   "metadata": {},
   "outputs": [
    {
     "name": "stdout",
     "output_type": "stream",
     "text": [
      "Uppercase strings: ['HELLO', 'WORLD', 'PYTHON', 'PROGRAMMING']\n"
     ]
    }
   ],
   "source": [
    "\n",
    "# List of strings\n",
    "strings = [\"hello\", \"world\", \"python\", \"programming\"]\n",
    "\n",
    "# Convert to uppercase using map()\n",
    "uppercase_strings = list(map(str.upper, strings))\n",
    "\n",
    "# Print the result\n",
    "print(\"Uppercase strings:\", uppercase_strings)"
   ]
  },
  {
   "cell_type": "code",
   "execution_count": null,
   "id": "4c260e15-06c7-44de-aded-3c02adaf9f98",
   "metadata": {},
   "outputs": [],
   "source": [
    "Exercise 6:\n",
    "Write a Python program to calculate the length of each string in a given list of strings using the map() function."
   ]
  },
  {
   "cell_type": "code",
   "execution_count": 13,
   "id": "9986d895-5853-49d5-b60c-0aa0874f1d0c",
   "metadata": {},
   "outputs": [
    {
     "name": "stdout",
     "output_type": "stream",
     "text": [
      "Lengths of the strings: [5, 5, 6, 11]\n"
     ]
    }
   ],
   "source": [
    "# List of strings\n",
    "strings = [\"hello\", \"world\", \"python\", \"programming\"]\n",
    "\n",
    "# Calculate the length of each string using map()\n",
    "lengths = list(map(len, strings))\n",
    "\n",
    "# Print the result\n",
    "print(\"Lengths of the strings:\", lengths)"
   ]
  },
  {
   "cell_type": "code",
   "execution_count": null,
   "id": "8549f7bd-7d90-4902-8bf1-68fdf9bc7d4d",
   "metadata": {},
   "outputs": [],
   "source": [
    "\n",
    "Exercise 7:\n",
    "Write a Python program to calculate the sum of elements in a list using the reduce() function.\n"
   ]
  },
  {
   "cell_type": "code",
   "execution_count": 15,
   "id": "d1f38ce1-0824-4f99-a3bc-f5588c0f973f",
   "metadata": {},
   "outputs": [
    {
     "name": "stdout",
     "output_type": "stream",
     "text": [
      "Sum of the elements in the list: 15\n"
     ]
    }
   ],
   "source": [
    "from functools import reduce\n",
    "\n",
    "# List of numbers\n",
    "numbers = [1, 2, 3, 4, 5]\n",
    "\n",
    "# Calculate the sum using reduce()\n",
    "total_sum = reduce(lambda x, y: x + y, numbers)\n",
    "\n",
    "# Print the result\n",
    "print(\"Sum of the elements in the list:\", total_sum)"
   ]
  },
  {
   "cell_type": "code",
   "execution_count": null,
   "id": "08493d0c-f3f4-4c8e-bdca-b8ba98cb961a",
   "metadata": {},
   "outputs": [],
   "source": [
    "Exercise 8: \n",
    "Write a Python program to find the maximum element in a list using the reduce() function."
   ]
  },
  {
   "cell_type": "code",
   "execution_count": 17,
   "id": "b71e9875-d194-4a7f-bc88-095281b2be04",
   "metadata": {},
   "outputs": [
    {
     "name": "stdout",
     "output_type": "stream",
     "text": [
      "Maximum element in the list: 8\n"
     ]
    }
   ],
   "source": [
    "from functools import reduce\n",
    "\n",
    "# List of numbers\n",
    "numbers = [3, 5, 2, 8, 1, 4]\n",
    "\n",
    "# Find the maximum using reduce()\n",
    "max_element = reduce(lambda x, y: x if x > y else y, numbers)\n",
    "\n",
    "# Print the result\n",
    "print(\"Maximum element in the list:\", max_element)"
   ]
  },
  {
   "cell_type": "code",
   "execution_count": null,
   "id": "cb2e0dc8-8a34-4bf8-8483-aa0a43ab1350",
   "metadata": {},
   "outputs": [],
   "source": []
  }
 ],
 "metadata": {
  "kernelspec": {
   "display_name": "Python 3 (ipykernel)",
   "language": "python",
   "name": "python3"
  },
  "language_info": {
   "codemirror_mode": {
    "name": "ipython",
    "version": 3
   },
   "file_extension": ".py",
   "mimetype": "text/x-python",
   "name": "python",
   "nbconvert_exporter": "python",
   "pygments_lexer": "ipython3",
   "version": "3.12.4"
  }
 },
 "nbformat": 4,
 "nbformat_minor": 5
}
